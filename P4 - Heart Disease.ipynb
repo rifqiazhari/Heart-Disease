{
 "cells": [
  {
   "cell_type": "markdown",
   "id": "8d37cc7c",
   "metadata": {},
   "source": [
    "## Table of Contents\n",
    "\n",
    "- [1. Introduction and Data Preprocessing](#1)\n",
    "    - [1.1 Problem Statement](#1.1)\n",
    "    - [1.2 Packages](#1.2)\n",
    "    - [1.3 Read or Import](#1.3)\n",
    "    - [1.4 Data Summary](#1.4)\n",
    "    - [1.5 Data Preparation](#1.5)\n",
    "- [2. Exploratory Data Analysis](#2)\n",
    "    - [2.1 Target Variable](#2.1)\n",
    "    - [2.2 Features Correlation with Target](#2.2)\n",
    "    - [2.3 Feature Variable](#2.3)\n",
    "        - [2.3.1 Alcohol](#2.3.1)\n",
    "        - [2.3.2 Volatile Acidity](#2.3.2)\n",
    "        - [2.3.3 Residual Sugar](#2.3.3)\n",
    "    - [2.4 Multicollinearity](#2.4)\n",
    "- [3. Feature Engineering](#3)\n",
    "    - [3.1 Missing Values](#3.1)\n",
    "- [4. Model](#4)\n",
    "    - [4.1 Logistic Regression](#4.1)\n",
    "    - [4.2 Random Forest](#4.2)\n",
    "- [5. Conclusion](#5)"
   ]
  },
  {
   "cell_type": "code",
   "execution_count": null,
   "id": "e242b161",
   "metadata": {},
   "outputs": [],
   "source": [
    "# IN PROCESS..."
   ]
  },
  {
   "cell_type": "markdown",
   "id": "cd5b4a1e",
   "metadata": {},
   "source": [
    "<a name='1'></a>\n",
    "# 1. Introduction and Data Preprocessing"
   ]
  },
  {
   "cell_type": "markdown",
   "id": "5a383703",
   "metadata": {},
   "source": [
    "<a name='1.1'></a>\n",
    "## 1.1 Problem Statement\n",
    "\n",
    "\n",
    "World Health Organization has estimated 12 million deaths occur worldwide, every year due to Heart diseases. Half the deaths in the United States and other developed countries are due to cardio vascular diseases. The early prognosis of cardiovascular diseases can aid in making decisions on lifestyle changes in high risk patients and in turn reduce the complications\n",
    "\n",
    "Now, we want to predict whether the patient has 10-year risk of future coronary heart disease (CHD). The data from an ongoing cardiovascular study on residents of the town of Framingham, Massachusetts that I get from Kaggle. The dataset provides the patients’ information. It includes over 4,000 records and 15 attributes."
   ]
  },
  {
   "cell_type": "markdown",
   "id": "8eb227c7",
   "metadata": {},
   "source": [
    "<a name='1.2'></a>\n",
    "## 1.2 Packages"
   ]
  },
  {
   "cell_type": "code",
   "execution_count": 1,
   "id": "7ef08290",
   "metadata": {},
   "outputs": [],
   "source": [
    "import pandas as pd\n",
    "from sklearn.model_selection import train_test_split\n",
    "import matplotlib.pyplot as plt\n",
    "import seaborn as sns"
   ]
  },
  {
   "cell_type": "markdown",
   "id": "d5caa3f9",
   "metadata": {},
   "source": [
    "<a name='1.3'></a>\n",
    "## 1.3 Read or Import"
   ]
  },
  {
   "cell_type": "code",
   "execution_count": 2,
   "id": "33ac86e3",
   "metadata": {},
   "outputs": [],
   "source": [
    "df = pd.read_csv(\"framingham.csv\")"
   ]
  },
  {
   "cell_type": "markdown",
   "id": "87d269c5",
   "metadata": {},
   "source": [
    "<a name='1.4'></a>\n",
    "## 1.4 Data Summary"
   ]
  },
  {
   "cell_type": "markdown",
   "id": "3799bb19",
   "metadata": {},
   "source": [
    "As we can see we have 15 variables in total, 14 independent or feature variables and 1 dependent or response variable"
   ]
  },
  {
   "cell_type": "code",
   "execution_count": 4,
   "id": "402bed1d",
   "metadata": {},
   "outputs": [
    {
     "name": "stdout",
     "output_type": "stream",
     "text": [
      "<class 'pandas.core.frame.DataFrame'>\n",
      "RangeIndex: 4238 entries, 0 to 4237\n",
      "Data columns (total 16 columns):\n",
      " #   Column           Non-Null Count  Dtype  \n",
      "---  ------           --------------  -----  \n",
      " 0   male             4238 non-null   int64  \n",
      " 1   age              4238 non-null   int64  \n",
      " 2   education        4133 non-null   float64\n",
      " 3   currentSmoker    4238 non-null   int64  \n",
      " 4   cigsPerDay       4209 non-null   float64\n",
      " 5   BPMeds           4185 non-null   float64\n",
      " 6   prevalentStroke  4238 non-null   int64  \n",
      " 7   prevalentHyp     4238 non-null   int64  \n",
      " 8   diabetes         4238 non-null   int64  \n",
      " 9   totChol          4188 non-null   float64\n",
      " 10  sysBP            4238 non-null   float64\n",
      " 11  diaBP            4238 non-null   float64\n",
      " 12  BMI              4219 non-null   float64\n",
      " 13  heartRate        4237 non-null   float64\n",
      " 14  glucose          3850 non-null   float64\n",
      " 15  TenYearCHD       4238 non-null   int64  \n",
      "dtypes: float64(9), int64(7)\n",
      "memory usage: 529.9 KB\n"
     ]
    }
   ],
   "source": [
    "df.info()"
   ]
  },
  {
   "cell_type": "markdown",
   "id": "9e497bb5",
   "metadata": {},
   "source": [
    "All of the features are numerical\n",
    "\n",
    "There are 6 variables that have binary value including the response variable and 10 variables that have continuous value"
   ]
  },
  {
   "cell_type": "code",
   "execution_count": 20,
   "id": "a018b5d3",
   "metadata": {},
   "outputs": [
    {
     "name": "stdout",
     "output_type": "stream",
     "text": [
      "There are 16 numerical features:\n",
      " ['male', 'age', 'education', 'currentSmoker', 'cigsPerDay', 'BPMeds', 'prevalentStroke', 'prevalentHyp', 'diabetes', 'totChol', 'sysBP', 'diaBP', 'BMI', 'heartRate', 'glucose', 'TenYearCHD']\n"
     ]
    }
   ],
   "source": [
    "numCols = list(df.select_dtypes(exclude='object').columns)\n",
    "print(f\"There are {len(numCols)} numerical features:\\n\", numCols)"
   ]
  },
  {
   "cell_type": "code",
   "execution_count": 21,
   "id": "d263f3dd",
   "metadata": {},
   "outputs": [
    {
     "name": "stdout",
     "output_type": "stream",
     "text": [
      "There are 0 categorical features:\n",
      " []\n"
     ]
    }
   ],
   "source": [
    "catCols = list(df.select_dtypes(include='object').columns)\n",
    "print(f\"There are {len(catCols)} categorical features:\\n\", catCols)"
   ]
  },
  {
   "cell_type": "markdown",
   "id": "6dcb1c8b",
   "metadata": {},
   "source": [
    "<a name='1.5'></a>\n",
    "## 1.5 Data Preparation"
   ]
  },
  {
   "cell_type": "code",
   "execution_count": 23,
   "id": "8d6af674",
   "metadata": {},
   "outputs": [],
   "source": [
    "# Split the train and test data\n",
    "dftrain, dftest = train_test_split(df, \n",
    "                                   random_state=None,  \n",
    "                                   test_size=0.20,  \n",
    "                                   shuffle=True)\n",
    "\n",
    "# Seperate features and target variable\n",
    "X_train = dftrain.drop(['TenYearCHD'], axis=1)\n",
    "y_train = dftrain.TenYearCHD\n",
    "X_test = dftest.drop(['TenYearCHD'], axis=1)\n",
    "y_test = dftest.TenYearCHD"
   ]
  },
  {
   "cell_type": "code",
   "execution_count": 27,
   "id": "05df8c8d",
   "metadata": {},
   "outputs": [
    {
     "name": "stdout",
     "output_type": "stream",
     "text": [
      "X_train: (3390, 15) (80.0%)\n",
      "y_train: (3390,) (80.0%)\n",
      "X_test: (848, 15) (20.0%)\n",
      "y_test: (848,) (20.0%)\n",
      "\n",
      "\n",
      "X_train: \n",
      "      male  age  education  currentSmoker  cigsPerDay  BPMeds  \\\n",
      "898      0   62        2.0              1         6.0     0.0   \n",
      "1556     0   43        2.0              0         0.0     0.0   \n",
      "439      1   63        1.0              0         0.0     0.0   \n",
      "\n",
      "      prevalentStroke  prevalentHyp  diabetes  totChol  sysBP  diaBP    BMI  \\\n",
      "898                 0             1         0    244.0  168.0  102.0  26.39   \n",
      "1556                0             0         0    213.0   96.0   62.0  19.38   \n",
      "439                 0             0         0    237.0  113.0   80.0  27.61   \n",
      "\n",
      "      heartRate  glucose  \n",
      "898        76.0    105.0  \n",
      "1556       74.0     80.0  \n",
      "439        90.0     71.0  \n",
      "\n",
      "y_train: \n",
      "898     1\n",
      "1556    0\n",
      "439     0\n",
      "Name: TenYearCHD, dtype: int64\n"
     ]
    }
   ],
   "source": [
    "#80/20 split\n",
    "print(f'X_train: {X_train.shape} ({round(len(X_train)/len(df), 1) * 100}%)')\n",
    "print(f'y_train: {y_train.shape} ({round(len(y_train)/len(df), 1) * 100}%)')\n",
    "print(f'X_test: {X_test.shape} ({round(len(X_test)/len(df), 1) * 100}%)')\n",
    "print(f'y_test: {y_test.shape} ({round(len(y_test)/len(df), 1) * 100}%)')\n",
    "\n",
    "#Data preview\n",
    "print('')\n",
    "print('')\n",
    "print('X_train: ')\n",
    "print(X_train.head(3))\n",
    "print('')\n",
    "print('y_train: ')\n",
    "print(y_train.head(3))"
   ]
  },
  {
   "cell_type": "markdown",
   "id": "e5bd333c",
   "metadata": {},
   "source": [
    "<a name='2'></a>\n",
    "# 2. Exploratory Data Analysis"
   ]
  },
  {
   "cell_type": "markdown",
   "id": "aa4dc4b1",
   "metadata": {},
   "source": [
    "<a name='2.1'></a>\n",
    "## 2.1 Target Variable"
   ]
  },
  {
   "cell_type": "code",
   "execution_count": 31,
   "id": "2085fdca",
   "metadata": {},
   "outputs": [
    {
     "data": {
      "text/plain": [
       "<Figure size 576x432 with 0 Axes>"
      ]
     },
     "metadata": {},
     "output_type": "display_data"
    },
    {
     "data": {
      "image/png": "[encoded data removed]",
      "text/plain": [
       "<Figure size 360x360 with 1 Axes>"
      ]
     },
     "metadata": {
      "needs_background": "light"
     },
     "output_type": "display_data"
    }
   ],
   "source": [
    "plt.figure(figsize=(8,6))\n",
    "y = df.TenYearCHD\n",
    "sns.displot(y)\n",
    "title = plt.title(\"Red Wine Quality\")\n",
    "\n",
    "#As we can see the distribution gathered in the middle\n",
    "#5 Quality value shows as the most quality value in red wine distribution followed by 6"
   ]
  },
  {
   "cell_type": "markdown",
   "id": "fd946a94",
   "metadata": {},
   "source": [
    "<a name='2.2'></a>\n",
    "## 2.2 Features Correlation with Target"
   ]
  },
  {
   "cell_type": "code",
   "execution_count": 34,
   "id": "01a204f3",
   "metadata": {},
   "outputs": [
    {
     "data": {
      "text/plain": [
       "TenYearCHD         1.000000\n",
       "age                0.225256\n",
       "sysBP              0.216429\n",
       "prevalentHyp       0.177603\n",
       "diaBP              0.145299\n",
       "glucose            0.125544\n",
       "diabetes           0.097317\n",
       "male               0.088428\n",
       "BPMeds             0.087489\n",
       "totChol            0.082184\n",
       "BMI                0.075192\n",
       "prevalentStroke    0.061810\n",
       "Name: TenYearCHD, dtype: float64"
      ]
     },
     "execution_count": 34,
     "metadata": {},
     "output_type": "execute_result"
    }
   ],
   "source": [
    "# Top 10 highest pearson correlation\n",
    "corr_mat = df.corr().TenYearCHD.sort_values(ascending=False)\n",
    "corr_mat.head(12)"
   ]
  },
  {
   "cell_type": "markdown",
   "id": "28651e01",
   "metadata": {},
   "source": [
    "Seems like the age has highest correlation followed with sysBP, and prevalentHyp. The prevalentStroke and BMI variables have the lowest correlation value"
   ]
  },
  {
   "cell_type": "markdown",
   "id": "5ba30dd8",
   "metadata": {},
   "source": [
    "<a name='2.3'></a>\n",
    "## 2.3 Feature Variables"
   ]
  },
  {
   "cell_type": "markdown",
   "id": "fbc4d266",
   "metadata": {},
   "source": [
    "<a name='2.3.1'></a>\n",
    "### 2.3.1 Age"
   ]
  },
  {
   "cell_type": "code",
   "execution_count": 45,
   "id": "b4312644",
   "metadata": {},
   "outputs": [
    {
     "data": {
      "image/png": "[encoded data removed]",
      "text/plain": [
       "<Figure size 576x432 with 1 Axes>"
      ]
     },
     "metadata": {
      "needs_background": "light"
     },
     "output_type": "display_data"
    }
   ],
   "source": [
    "plt.figure(figsize=(8, 6))\n",
    "sns.boxplot(x='age', y='TenYearCHD', data=dftrain, orient='h', order=[1, 0], palette='GnBu')\n",
    "title = plt.title('TenYearCHD by age')\n",
    "\n",
    "# It seems like the TenYearCHD typically occured in older people. The median is around 55"
   ]
  },
  {
   "cell_type": "markdown",
   "id": "29b2b040",
   "metadata": {},
   "source": [
    "<a name='2.3.2'></a>\n",
    "### 2.3.2 sysBP"
   ]
  },
  {
   "cell_type": "code",
   "execution_count": 44,
   "id": "74065b88",
   "metadata": {},
   "outputs": [
    {
     "data": {
      "image/png": "[encoded data removed]",
      "text/plain": [
       "<Figure size 576x432 with 1 Axes>"
      ]
     },
     "metadata": {
      "needs_background": "light"
     },
     "output_type": "display_data"
    }
   ],
   "source": [
    "plt.figure(figsize=(8, 6))\n",
    "sns.boxplot(x='sysBP', y='TenYearCHD', data=dftrain, orient='h', order=[1, 0], palette='GnBu')\n",
    "title = plt.title('TenYearCHD by sysBP')\n",
    "# As we can see"
   ]
  },
  {
   "cell_type": "markdown",
   "id": "8535d583",
   "metadata": {},
   "source": [
    "<a name='2.3.3'></a>\n",
    "### 2.3.3 prevalentHyp"
   ]
  },
  {
   "cell_type": "code",
   "execution_count": 46,
   "id": "d6e9f6a4",
   "metadata": {},
   "outputs": [
    {
     "data": {
      "image/png": "[encoded data removed]",
      "text/plain": [
       "<Figure size 576x432 with 1 Axes>"
      ]
     },
     "metadata": {
      "needs_background": "light"
     },
     "output_type": "display_data"
    }
   ],
   "source": [
    "plt.figure(figsize=(8, 6))\n",
    "sns.boxplot(x='prevalentHyp', y='TenYearCHD', data=dftrain, orient='h', order=[1, 0], palette='GnBu')\n",
    "title = plt.title('TenYearCHD by prevalentHyp')\n",
    "# As we can see"
   ]
  },
  {
   "cell_type": "markdown",
   "id": "77301aa2",
   "metadata": {},
   "source": [
    "<a name='2.3.4'></a>\n",
    "### 2.3.4 prevalentStroke"
   ]
  },
  {
   "cell_type": "code",
   "execution_count": null,
   "id": "93d2202b",
   "metadata": {},
   "outputs": [],
   "source": []
  },
  {
   "cell_type": "markdown",
   "id": "3e423a17",
   "metadata": {},
   "source": [
    "<a name='2.3.5'></a>\n",
    "### 2.3.5 BMI"
   ]
  },
  {
   "cell_type": "code",
   "execution_count": 51,
   "id": "53b96e05",
   "metadata": {},
   "outputs": [
    {
     "data": {
      "image/png": "[encoded data removed]",
      "text/plain": [
       "<Figure size 576x432 with 1 Axes>"
      ]
     },
     "metadata": {
      "needs_background": "light"
     },
     "output_type": "display_data"
    }
   ],
   "source": [
    "plt.figure(figsize=(8, 6))\n",
    "sns.boxplot(x='BMI', y='TenYearCHD', data=dftrain, orient='h', order=[1, 0], palette='GnBu')\n",
    "title = plt.title('TenYearCHD by BMI')\n",
    "# As we can see there is just a small different in the median and the quartal. The data still shows us there is a correlation but small"
   ]
  },
  {
   "cell_type": "markdown",
   "id": "980cfdbb",
   "metadata": {},
   "source": [
    "<a name='2.4'></a>\n",
    "## 2.4 Multicollinearity"
   ]
  },
  {
   "cell_type": "code",
   "execution_count": 52,
   "id": "0f937020",
   "metadata": {},
   "outputs": [
    {
     "data": {
      "image/png": "[encoded data removed]",
      "text/plain": [
       "<Figure size 1080x720 with 2 Axes>"
      ]
     },
     "metadata": {
      "needs_background": "light"
     },
     "output_type": "display_data"
    }
   ],
   "source": [
    "# Create correlation matrix from train data excluding `SalePrice`\n",
    "corr_mat = dftrain.iloc[:, :-1].corr()\n",
    "\n",
    "# Select correlations greater than 0.5\n",
    "high_corr_mat = corr_mat[abs(corr_mat) >= 0.5]\n",
    "\n",
    "# Plot correlation heatmap\n",
    "plt.figure(figsize=(15, 10))\n",
    "sns.heatmap(high_corr_mat,\n",
    "            annot=True,\n",
    "            fmt='.1f',\n",
    "            cmap='BuGn',\n",
    "            vmin=0.5,\n",
    "            vmax=1)\n",
    "title = plt.title('Correlation Heatmap')"
   ]
  },
  {
   "cell_type": "markdown",
   "id": "490beb4a",
   "metadata": {},
   "source": [
    "<a name='3'></a>\n",
    "# 3. Feature Engineering"
   ]
  },
  {
   "cell_type": "markdown",
   "id": "070b8c0c",
   "metadata": {},
   "source": [
    "<a name='3.1'></a>\n",
    "## 3.1 Missing Values"
   ]
  },
  {
   "cell_type": "code",
   "execution_count": 54,
   "id": "bcbf97c9",
   "metadata": {},
   "outputs": [
    {
     "name": "stdout",
     "output_type": "stream",
     "text": [
      "There are 6 features having missing data.\n",
      "\n",
      "Top 10 missing value features:\n"
     ]
    },
    {
     "data": {
      "text/html": [
       "<div>\n",
       "<style scoped>\n",
       "    .dataframe tbody tr th:only-of-type {\n",
       "        vertical-align: middle;\n",
       "    }\n",
       "\n",
       "    .dataframe tbody tr th {\n",
       "        vertical-align: top;\n",
       "    }\n",
       "\n",
       "    .dataframe thead th {\n",
       "        text-align: right;\n",
       "    }\n",
       "</style>\n",
       "<table border=\"1\" class=\"dataframe\">\n",
       "  <thead>\n",
       "    <tr style=\"text-align: right;\">\n",
       "      <th></th>\n",
       "      <th>Count</th>\n",
       "      <th>Percent</th>\n",
       "    </tr>\n",
       "  </thead>\n",
       "  <tbody>\n",
       "    <tr>\n",
       "      <th>glucose</th>\n",
       "      <td>311</td>\n",
       "      <td>9.174041</td>\n",
       "    </tr>\n",
       "    <tr>\n",
       "      <th>education</th>\n",
       "      <td>82</td>\n",
       "      <td>2.418879</td>\n",
       "    </tr>\n",
       "    <tr>\n",
       "      <th>totChol</th>\n",
       "      <td>45</td>\n",
       "      <td>1.327434</td>\n",
       "    </tr>\n",
       "    <tr>\n",
       "      <th>BPMeds</th>\n",
       "      <td>41</td>\n",
       "      <td>1.209440</td>\n",
       "    </tr>\n",
       "    <tr>\n",
       "      <th>cigsPerDay</th>\n",
       "      <td>22</td>\n",
       "      <td>0.648968</td>\n",
       "    </tr>\n",
       "    <tr>\n",
       "      <th>BMI</th>\n",
       "      <td>15</td>\n",
       "      <td>0.442478</td>\n",
       "    </tr>\n",
       "  </tbody>\n",
       "</table>\n",
       "</div>"
      ],
      "text/plain": [
       "            Count   Percent\n",
       "glucose       311  9.174041\n",
       "education      82  2.418879\n",
       "totChol        45  1.327434\n",
       "BPMeds         41  1.209440\n",
       "cigsPerDay     22  0.648968\n",
       "BMI            15  0.442478"
      ]
     },
     "execution_count": 54,
     "metadata": {},
     "output_type": "execute_result"
    }
   ],
   "source": [
    "missing_data_train_count = X_train.isnull().sum()\n",
    "missing_data_train_percent = X_train.isnull().sum() / len(X_train) * 100\n",
    "\n",
    "missing_data_train = pd.DataFrame({\n",
    "    'Count': missing_data_train_count,\n",
    "    'Percent': missing_data_train_percent\n",
    "})\n",
    "missing_data_train = missing_data_train[missing_data_train.Count > 0]\n",
    "missing_data_train.sort_values(by='Count', ascending=False, inplace=True)\n",
    "\n",
    "print(f\"There are {missing_data_train.shape[0]} features having missing data.\\n\")\n",
    "print(\"Top 10 missing value features:\")\n",
    "missing_data_train.head(15)"
   ]
  },
  {
   "cell_type": "code",
   "execution_count": 55,
   "id": "c2916ea3",
   "metadata": {},
   "outputs": [
    {
     "data": {
      "image/png": "[encoded data removed]",
      "text/plain": [
       "<Figure size 864x432 with 1 Axes>"
      ]
     },
     "metadata": {
      "needs_background": "light"
     },
     "output_type": "display_data"
    }
   ],
   "source": [
    "plt.figure(figsize=(12, 6))\n",
    "sns.barplot(y=missing_data_train.head(18).index,\n",
    "            x=missing_data_train.head(18).Count,\n",
    "            palette='GnBu_r')\n",
    "title = plt.title(\"Missing Values\")"
   ]
  },
  {
   "cell_type": "code",
   "execution_count": 57,
   "id": "954f1e31",
   "metadata": {},
   "outputs": [
    {
     "name": "stdout",
     "output_type": "stream",
     "text": [
      "There are 7 features having missing data.\n",
      "\n",
      "Top 10 missing value features:\n"
     ]
    },
    {
     "data": {
      "text/html": [
       "<div>\n",
       "<style scoped>\n",
       "    .dataframe tbody tr th:only-of-type {\n",
       "        vertical-align: middle;\n",
       "    }\n",
       "\n",
       "    .dataframe tbody tr th {\n",
       "        vertical-align: top;\n",
       "    }\n",
       "\n",
       "    .dataframe thead th {\n",
       "        text-align: right;\n",
       "    }\n",
       "</style>\n",
       "<table border=\"1\" class=\"dataframe\">\n",
       "  <thead>\n",
       "    <tr style=\"text-align: right;\">\n",
       "      <th></th>\n",
       "      <th>Count</th>\n",
       "      <th>Percent</th>\n",
       "    </tr>\n",
       "  </thead>\n",
       "  <tbody>\n",
       "    <tr>\n",
       "      <th>glucose</th>\n",
       "      <td>77</td>\n",
       "      <td>9.080189</td>\n",
       "    </tr>\n",
       "    <tr>\n",
       "      <th>education</th>\n",
       "      <td>23</td>\n",
       "      <td>2.712264</td>\n",
       "    </tr>\n",
       "    <tr>\n",
       "      <th>BPMeds</th>\n",
       "      <td>12</td>\n",
       "      <td>1.415094</td>\n",
       "    </tr>\n",
       "    <tr>\n",
       "      <th>cigsPerDay</th>\n",
       "      <td>7</td>\n",
       "      <td>0.825472</td>\n",
       "    </tr>\n",
       "    <tr>\n",
       "      <th>totChol</th>\n",
       "      <td>5</td>\n",
       "      <td>0.589623</td>\n",
       "    </tr>\n",
       "    <tr>\n",
       "      <th>BMI</th>\n",
       "      <td>4</td>\n",
       "      <td>0.471698</td>\n",
       "    </tr>\n",
       "    <tr>\n",
       "      <th>heartRate</th>\n",
       "      <td>1</td>\n",
       "      <td>0.117925</td>\n",
       "    </tr>\n",
       "  </tbody>\n",
       "</table>\n",
       "</div>"
      ],
      "text/plain": [
       "            Count   Percent\n",
       "glucose        77  9.080189\n",
       "education      23  2.712264\n",
       "BPMeds         12  1.415094\n",
       "cigsPerDay      7  0.825472\n",
       "totChol         5  0.589623\n",
       "BMI             4  0.471698\n",
       "heartRate       1  0.117925"
      ]
     },
     "execution_count": 57,
     "metadata": {},
     "output_type": "execute_result"
    }
   ],
   "source": [
    "missing_data_test_count = X_test.isnull().sum()\n",
    "missing_data_test_percent = X_test.isnull().sum() / len(X_test) * 100\n",
    "\n",
    "missing_data_test = pd.DataFrame({\n",
    "    'Count': missing_data_test_count,\n",
    "    'Percent': missing_data_test_percent\n",
    "})\n",
    "missing_data_test = missing_data_test[missing_data_test.Count > 0]\n",
    "missing_data_test.sort_values(by='Count', ascending=False, inplace=True)\n",
    "\n",
    "print(f\"There are {missing_data_test.shape[0]} features having missing data.\\n\")\n",
    "print(\"Top 10 missing value features:\")\n",
    "missing_data_test.head(10)"
   ]
  },
  {
   "cell_type": "code",
   "execution_count": 58,
   "id": "09c76c1a",
   "metadata": {},
   "outputs": [
    {
     "data": {
      "image/png": "[encoded data removed]",
      "text/plain": [
       "<Figure size 864x432 with 1 Axes>"
      ]
     },
     "metadata": {
      "needs_background": "light"
     },
     "output_type": "display_data"
    }
   ],
   "source": [
    "plt.figure(figsize=(12, 6))\n",
    "sns.barplot(y=missing_data_test.head(18).index,\n",
    "            x=missing_data_test.head(18).Count,\n",
    "            palette='GnBu_r')\n",
    "title = plt.title(\"Missing Values\")"
   ]
  },
  {
   "cell_type": "code",
   "execution_count": null,
   "id": "10d13565",
   "metadata": {},
   "outputs": [],
   "source": [
    "# Fill continuous and discrete (exclude 'Lot Frontage') variables with 0\n",
    "# Fill 'Lot Frontage' variable with its mean value\n",
    "# Fill 'Garage Yr Blt' with 'Year Built'\n",
    "variables_train = [\n",
    "    'Garage Area', 'Garage Cars', 'BsmtFin SF 1', 'BsmtFin SF 2', 'Bsmt Unf SF',\n",
    "    'Total Bsmt SF', 'Bsmt Full Bath', 'Bsmt Half Bath', 'Mas Vnr Area'\n",
    "]\n",
    "\n",
    "X_train[variables_train] = X_t\n",
    "\n",
    "rain[variables_train].fillna(0)\n",
    "\n",
    "X_train['Lot Frontage'] = X_train['Lot Frontage'].fillna(X_train['Lot Frontage'].mean())\n",
    "X_train['Garage Yr Blt'] = X_train['Garage Yr Blt'].fillna(X_train['Year Built'])"
   ]
  },
  {
   "cell_type": "code",
   "execution_count": null,
   "id": "b4141a87",
   "metadata": {},
   "outputs": [],
   "source": [
    "X_test['Mas Vnr Area'] = X_test['Mas Vnr Area'].fillna(0)\n",
    "\n",
    "X_test['Lot Frontage'] = X_test['Lot Frontage'].fillna(X_test['Lot Frontage'].mean())\n",
    "X_test['Garage Yr Blt'] = X_test['Garage Yr Blt'].fillna(X_test['Year Built'])"
   ]
  },
  {
   "cell_type": "code",
   "execution_count": null,
   "id": "6f82af92",
   "metadata": {},
   "outputs": [],
   "source": [
    "#Delete Outliers"
   ]
  },
  {
   "cell_type": "markdown",
   "id": "27a0eebc",
   "metadata": {},
   "source": [
    "<a name='4'></a>\n",
    "# 4. Model"
   ]
  },
  {
   "cell_type": "markdown",
   "id": "6e80d91e",
   "metadata": {},
   "source": [
    "<a name='4.1'></a>\n",
    "## 4.1 Binomial Logistic Regression"
   ]
  },
  {
   "cell_type": "code",
   "execution_count": 60,
   "id": "f836918a",
   "metadata": {},
   "outputs": [
    {
     "ename": "ValueError",
     "evalue": "Input contains NaN, infinity or a value too large for dtype('float64').",
     "output_type": "error",
     "traceback": [
      "\u001b[1;31m---------------------------------------------------------------------------\u001b[0m",
      "\u001b[1;31mValueError\u001b[0m                                Traceback (most recent call last)",
      "Input \u001b[1;32mIn [60]\u001b[0m, in \u001b[0;36m<cell line: 3>\u001b[1;34m()\u001b[0m\n\u001b[0;32m      1\u001b[0m \u001b[38;5;28;01mfrom\u001b[39;00m \u001b[38;5;21;01msklearn\u001b[39;00m\u001b[38;5;21;01m.\u001b[39;00m\u001b[38;5;21;01mlinear_model\u001b[39;00m \u001b[38;5;28;01mimport\u001b[39;00m LogisticRegression\n\u001b[0;32m      2\u001b[0m model \u001b[38;5;241m=\u001b[39m LogisticRegression()\n\u001b[1;32m----> 3\u001b[0m \u001b[43mmodel\u001b[49m\u001b[38;5;241;43m.\u001b[39;49m\u001b[43mfit\u001b[49m\u001b[43m(\u001b[49m\u001b[43mX_train\u001b[49m\u001b[43m,\u001b[49m\u001b[43m \u001b[49m\u001b[43my_train\u001b[49m\u001b[43m)\u001b[49m\n\u001b[0;32m      4\u001b[0m Y_train_pred \u001b[38;5;241m=\u001b[39m model\u001b[38;5;241m.\u001b[39mpredict(X_train)\n\u001b[0;32m      5\u001b[0m Y_test_pred \u001b[38;5;241m=\u001b[39m model\u001b[38;5;241m.\u001b[39mpredict(X_test)\n",
      "File \u001b[1;32m~\\anaconda3\\lib\\site-packages\\sklearn\\linear_model\\_logistic.py:1508\u001b[0m, in \u001b[0;36mLogisticRegression.fit\u001b[1;34m(self, X, y, sample_weight)\u001b[0m\n\u001b[0;32m   1505\u001b[0m \u001b[38;5;28;01melse\u001b[39;00m:\n\u001b[0;32m   1506\u001b[0m     _dtype \u001b[38;5;241m=\u001b[39m [np\u001b[38;5;241m.\u001b[39mfloat64, np\u001b[38;5;241m.\u001b[39mfloat32]\n\u001b[1;32m-> 1508\u001b[0m X, y \u001b[38;5;241m=\u001b[39m \u001b[38;5;28;43mself\u001b[39;49m\u001b[38;5;241;43m.\u001b[39;49m\u001b[43m_validate_data\u001b[49m\u001b[43m(\u001b[49m\n\u001b[0;32m   1509\u001b[0m \u001b[43m    \u001b[49m\u001b[43mX\u001b[49m\u001b[43m,\u001b[49m\n\u001b[0;32m   1510\u001b[0m \u001b[43m    \u001b[49m\u001b[43my\u001b[49m\u001b[43m,\u001b[49m\n\u001b[0;32m   1511\u001b[0m \u001b[43m    \u001b[49m\u001b[43maccept_sparse\u001b[49m\u001b[38;5;241;43m=\u001b[39;49m\u001b[38;5;124;43m\"\u001b[39;49m\u001b[38;5;124;43mcsr\u001b[39;49m\u001b[38;5;124;43m\"\u001b[39;49m\u001b[43m,\u001b[49m\n\u001b[0;32m   1512\u001b[0m \u001b[43m    \u001b[49m\u001b[43mdtype\u001b[49m\u001b[38;5;241;43m=\u001b[39;49m\u001b[43m_dtype\u001b[49m\u001b[43m,\u001b[49m\n\u001b[0;32m   1513\u001b[0m \u001b[43m    \u001b[49m\u001b[43morder\u001b[49m\u001b[38;5;241;43m=\u001b[39;49m\u001b[38;5;124;43m\"\u001b[39;49m\u001b[38;5;124;43mC\u001b[39;49m\u001b[38;5;124;43m\"\u001b[39;49m\u001b[43m,\u001b[49m\n\u001b[0;32m   1514\u001b[0m \u001b[43m    \u001b[49m\u001b[43maccept_large_sparse\u001b[49m\u001b[38;5;241;43m=\u001b[39;49m\u001b[43msolver\u001b[49m\u001b[43m \u001b[49m\u001b[38;5;129;43;01mnot\u001b[39;49;00m\u001b[43m \u001b[49m\u001b[38;5;129;43;01min\u001b[39;49;00m\u001b[43m \u001b[49m\u001b[43m[\u001b[49m\u001b[38;5;124;43m\"\u001b[39;49m\u001b[38;5;124;43mliblinear\u001b[39;49m\u001b[38;5;124;43m\"\u001b[39;49m\u001b[43m,\u001b[49m\u001b[43m \u001b[49m\u001b[38;5;124;43m\"\u001b[39;49m\u001b[38;5;124;43msag\u001b[39;49m\u001b[38;5;124;43m\"\u001b[39;49m\u001b[43m,\u001b[49m\u001b[43m \u001b[49m\u001b[38;5;124;43m\"\u001b[39;49m\u001b[38;5;124;43msaga\u001b[39;49m\u001b[38;5;124;43m\"\u001b[39;49m\u001b[43m]\u001b[49m\u001b[43m,\u001b[49m\n\u001b[0;32m   1515\u001b[0m \u001b[43m\u001b[49m\u001b[43m)\u001b[49m\n\u001b[0;32m   1516\u001b[0m check_classification_targets(y)\n\u001b[0;32m   1517\u001b[0m \u001b[38;5;28mself\u001b[39m\u001b[38;5;241m.\u001b[39mclasses_ \u001b[38;5;241m=\u001b[39m np\u001b[38;5;241m.\u001b[39munique(y)\n",
      "File \u001b[1;32m~\\anaconda3\\lib\\site-packages\\sklearn\\base.py:581\u001b[0m, in \u001b[0;36mBaseEstimator._validate_data\u001b[1;34m(self, X, y, reset, validate_separately, **check_params)\u001b[0m\n\u001b[0;32m    579\u001b[0m         y \u001b[38;5;241m=\u001b[39m check_array(y, \u001b[38;5;241m*\u001b[39m\u001b[38;5;241m*\u001b[39mcheck_y_params)\n\u001b[0;32m    580\u001b[0m     \u001b[38;5;28;01melse\u001b[39;00m:\n\u001b[1;32m--> 581\u001b[0m         X, y \u001b[38;5;241m=\u001b[39m check_X_y(X, y, \u001b[38;5;241m*\u001b[39m\u001b[38;5;241m*\u001b[39mcheck_params)\n\u001b[0;32m    582\u001b[0m     out \u001b[38;5;241m=\u001b[39m X, y\n\u001b[0;32m    584\u001b[0m \u001b[38;5;28;01mif\u001b[39;00m \u001b[38;5;129;01mnot\u001b[39;00m no_val_X \u001b[38;5;129;01mand\u001b[39;00m check_params\u001b[38;5;241m.\u001b[39mget(\u001b[38;5;124m\"\u001b[39m\u001b[38;5;124mensure_2d\u001b[39m\u001b[38;5;124m\"\u001b[39m, \u001b[38;5;28;01mTrue\u001b[39;00m):\n",
      "File \u001b[1;32m~\\anaconda3\\lib\\site-packages\\sklearn\\utils\\validation.py:964\u001b[0m, in \u001b[0;36mcheck_X_y\u001b[1;34m(X, y, accept_sparse, accept_large_sparse, dtype, order, copy, force_all_finite, ensure_2d, allow_nd, multi_output, ensure_min_samples, ensure_min_features, y_numeric, estimator)\u001b[0m\n\u001b[0;32m    961\u001b[0m \u001b[38;5;28;01mif\u001b[39;00m y \u001b[38;5;129;01mis\u001b[39;00m \u001b[38;5;28;01mNone\u001b[39;00m:\n\u001b[0;32m    962\u001b[0m     \u001b[38;5;28;01mraise\u001b[39;00m \u001b[38;5;167;01mValueError\u001b[39;00m(\u001b[38;5;124m\"\u001b[39m\u001b[38;5;124my cannot be None\u001b[39m\u001b[38;5;124m\"\u001b[39m)\n\u001b[1;32m--> 964\u001b[0m X \u001b[38;5;241m=\u001b[39m \u001b[43mcheck_array\u001b[49m\u001b[43m(\u001b[49m\n\u001b[0;32m    965\u001b[0m \u001b[43m    \u001b[49m\u001b[43mX\u001b[49m\u001b[43m,\u001b[49m\n\u001b[0;32m    966\u001b[0m \u001b[43m    \u001b[49m\u001b[43maccept_sparse\u001b[49m\u001b[38;5;241;43m=\u001b[39;49m\u001b[43maccept_sparse\u001b[49m\u001b[43m,\u001b[49m\n\u001b[0;32m    967\u001b[0m \u001b[43m    \u001b[49m\u001b[43maccept_large_sparse\u001b[49m\u001b[38;5;241;43m=\u001b[39;49m\u001b[43maccept_large_sparse\u001b[49m\u001b[43m,\u001b[49m\n\u001b[0;32m    968\u001b[0m \u001b[43m    \u001b[49m\u001b[43mdtype\u001b[49m\u001b[38;5;241;43m=\u001b[39;49m\u001b[43mdtype\u001b[49m\u001b[43m,\u001b[49m\n\u001b[0;32m    969\u001b[0m \u001b[43m    \u001b[49m\u001b[43morder\u001b[49m\u001b[38;5;241;43m=\u001b[39;49m\u001b[43morder\u001b[49m\u001b[43m,\u001b[49m\n\u001b[0;32m    970\u001b[0m \u001b[43m    \u001b[49m\u001b[43mcopy\u001b[49m\u001b[38;5;241;43m=\u001b[39;49m\u001b[43mcopy\u001b[49m\u001b[43m,\u001b[49m\n\u001b[0;32m    971\u001b[0m \u001b[43m    \u001b[49m\u001b[43mforce_all_finite\u001b[49m\u001b[38;5;241;43m=\u001b[39;49m\u001b[43mforce_all_finite\u001b[49m\u001b[43m,\u001b[49m\n\u001b[0;32m    972\u001b[0m \u001b[43m    \u001b[49m\u001b[43mensure_2d\u001b[49m\u001b[38;5;241;43m=\u001b[39;49m\u001b[43mensure_2d\u001b[49m\u001b[43m,\u001b[49m\n\u001b[0;32m    973\u001b[0m \u001b[43m    \u001b[49m\u001b[43mallow_nd\u001b[49m\u001b[38;5;241;43m=\u001b[39;49m\u001b[43mallow_nd\u001b[49m\u001b[43m,\u001b[49m\n\u001b[0;32m    974\u001b[0m \u001b[43m    \u001b[49m\u001b[43mensure_min_samples\u001b[49m\u001b[38;5;241;43m=\u001b[39;49m\u001b[43mensure_min_samples\u001b[49m\u001b[43m,\u001b[49m\n\u001b[0;32m    975\u001b[0m \u001b[43m    \u001b[49m\u001b[43mensure_min_features\u001b[49m\u001b[38;5;241;43m=\u001b[39;49m\u001b[43mensure_min_features\u001b[49m\u001b[43m,\u001b[49m\n\u001b[0;32m    976\u001b[0m \u001b[43m    \u001b[49m\u001b[43mestimator\u001b[49m\u001b[38;5;241;43m=\u001b[39;49m\u001b[43mestimator\u001b[49m\u001b[43m,\u001b[49m\n\u001b[0;32m    977\u001b[0m \u001b[43m\u001b[49m\u001b[43m)\u001b[49m\n\u001b[0;32m    979\u001b[0m y \u001b[38;5;241m=\u001b[39m _check_y(y, multi_output\u001b[38;5;241m=\u001b[39mmulti_output, y_numeric\u001b[38;5;241m=\u001b[39my_numeric)\n\u001b[0;32m    981\u001b[0m check_consistent_length(X, y)\n",
      "File \u001b[1;32m~\\anaconda3\\lib\\site-packages\\sklearn\\utils\\validation.py:800\u001b[0m, in \u001b[0;36mcheck_array\u001b[1;34m(array, accept_sparse, accept_large_sparse, dtype, order, copy, force_all_finite, ensure_2d, allow_nd, ensure_min_samples, ensure_min_features, estimator)\u001b[0m\n\u001b[0;32m    794\u001b[0m         \u001b[38;5;28;01mraise\u001b[39;00m \u001b[38;5;167;01mValueError\u001b[39;00m(\n\u001b[0;32m    795\u001b[0m             \u001b[38;5;124m\"\u001b[39m\u001b[38;5;124mFound array with dim \u001b[39m\u001b[38;5;132;01m%d\u001b[39;00m\u001b[38;5;124m. \u001b[39m\u001b[38;5;132;01m%s\u001b[39;00m\u001b[38;5;124m expected <= 2.\u001b[39m\u001b[38;5;124m\"\u001b[39m\n\u001b[0;32m    796\u001b[0m             \u001b[38;5;241m%\u001b[39m (array\u001b[38;5;241m.\u001b[39mndim, estimator_name)\n\u001b[0;32m    797\u001b[0m         )\n\u001b[0;32m    799\u001b[0m     \u001b[38;5;28;01mif\u001b[39;00m force_all_finite:\n\u001b[1;32m--> 800\u001b[0m         \u001b[43m_assert_all_finite\u001b[49m\u001b[43m(\u001b[49m\u001b[43marray\u001b[49m\u001b[43m,\u001b[49m\u001b[43m \u001b[49m\u001b[43mallow_nan\u001b[49m\u001b[38;5;241;43m=\u001b[39;49m\u001b[43mforce_all_finite\u001b[49m\u001b[43m \u001b[49m\u001b[38;5;241;43m==\u001b[39;49m\u001b[43m \u001b[49m\u001b[38;5;124;43m\"\u001b[39;49m\u001b[38;5;124;43mallow-nan\u001b[39;49m\u001b[38;5;124;43m\"\u001b[39;49m\u001b[43m)\u001b[49m\n\u001b[0;32m    802\u001b[0m \u001b[38;5;28;01mif\u001b[39;00m ensure_min_samples \u001b[38;5;241m>\u001b[39m \u001b[38;5;241m0\u001b[39m:\n\u001b[0;32m    803\u001b[0m     n_samples \u001b[38;5;241m=\u001b[39m _num_samples(array)\n",
      "File \u001b[1;32m~\\anaconda3\\lib\\site-packages\\sklearn\\utils\\validation.py:114\u001b[0m, in \u001b[0;36m_assert_all_finite\u001b[1;34m(X, allow_nan, msg_dtype)\u001b[0m\n\u001b[0;32m    107\u001b[0m     \u001b[38;5;28;01mif\u001b[39;00m (\n\u001b[0;32m    108\u001b[0m         allow_nan\n\u001b[0;32m    109\u001b[0m         \u001b[38;5;129;01mand\u001b[39;00m np\u001b[38;5;241m.\u001b[39misinf(X)\u001b[38;5;241m.\u001b[39many()\n\u001b[0;32m    110\u001b[0m         \u001b[38;5;129;01mor\u001b[39;00m \u001b[38;5;129;01mnot\u001b[39;00m allow_nan\n\u001b[0;32m    111\u001b[0m         \u001b[38;5;129;01mand\u001b[39;00m \u001b[38;5;129;01mnot\u001b[39;00m np\u001b[38;5;241m.\u001b[39misfinite(X)\u001b[38;5;241m.\u001b[39mall()\n\u001b[0;32m    112\u001b[0m     ):\n\u001b[0;32m    113\u001b[0m         type_err \u001b[38;5;241m=\u001b[39m \u001b[38;5;124m\"\u001b[39m\u001b[38;5;124minfinity\u001b[39m\u001b[38;5;124m\"\u001b[39m \u001b[38;5;28;01mif\u001b[39;00m allow_nan \u001b[38;5;28;01melse\u001b[39;00m \u001b[38;5;124m\"\u001b[39m\u001b[38;5;124mNaN, infinity\u001b[39m\u001b[38;5;124m\"\u001b[39m\n\u001b[1;32m--> 114\u001b[0m         \u001b[38;5;28;01mraise\u001b[39;00m \u001b[38;5;167;01mValueError\u001b[39;00m(\n\u001b[0;32m    115\u001b[0m             msg_err\u001b[38;5;241m.\u001b[39mformat(\n\u001b[0;32m    116\u001b[0m                 type_err, msg_dtype \u001b[38;5;28;01mif\u001b[39;00m msg_dtype \u001b[38;5;129;01mis\u001b[39;00m \u001b[38;5;129;01mnot\u001b[39;00m \u001b[38;5;28;01mNone\u001b[39;00m \u001b[38;5;28;01melse\u001b[39;00m X\u001b[38;5;241m.\u001b[39mdtype\n\u001b[0;32m    117\u001b[0m             )\n\u001b[0;32m    118\u001b[0m         )\n\u001b[0;32m    119\u001b[0m \u001b[38;5;66;03m# for object dtype data, we only check for NaNs (GH-13254)\u001b[39;00m\n\u001b[0;32m    120\u001b[0m \u001b[38;5;28;01melif\u001b[39;00m X\u001b[38;5;241m.\u001b[39mdtype \u001b[38;5;241m==\u001b[39m np\u001b[38;5;241m.\u001b[39mdtype(\u001b[38;5;124m\"\u001b[39m\u001b[38;5;124mobject\u001b[39m\u001b[38;5;124m\"\u001b[39m) \u001b[38;5;129;01mand\u001b[39;00m \u001b[38;5;129;01mnot\u001b[39;00m allow_nan:\n",
      "\u001b[1;31mValueError\u001b[0m: Input contains NaN, infinity or a value too large for dtype('float64')."
     ]
    }
   ],
   "source": [
    "from sklearn.linear_model import LogisticRegression\n",
    "model = LogisticRegression()\n",
    "model.fit(X_train, y_train)\n",
    "Y_train_pred = model.predict(X_train)\n",
    "Y_test_pred = model.predict(X_test)\n",
    "\n",
    "from sklearn.metrics import accuracy_score,confusion_matrix\n",
    "print(\"Accuracy Score (Train):\",accuracy_score(y_train,Y_train_pred))\n",
    "print(\"Confusion Matrix (Train) \\n\",confusion_matrix(y_test,Y_test_pred))\n",
    "print(\"Accuracy Score (Test):\",accuracy_score(y_test,Y_test_pred))\n",
    "print(\"Confusion Matrix (Test) \\n\",confusion_matrix(y_test,Y_test_pred))"
   ]
  },
  {
   "cell_type": "markdown",
   "id": "fce5d3f4",
   "metadata": {},
   "source": [
    "<a name='4.2'></a>\n",
    "## 4.2 Neural Networks"
   ]
  },
  {
   "cell_type": "code",
   "execution_count": 61,
   "id": "e225e486",
   "metadata": {},
   "outputs": [
    {
     "data": {
      "text/plain": [
       "(3390,)"
      ]
     },
     "execution_count": 61,
     "metadata": {},
     "output_type": "execute_result"
    }
   ],
   "source": [
    "y_train.shape"
   ]
  },
  {
   "cell_type": "code",
   "execution_count": 62,
   "id": "c4b85d64",
   "metadata": {},
   "outputs": [
    {
     "data": {
      "text/plain": [
       "pandas.core.series.Series"
      ]
     },
     "execution_count": 62,
     "metadata": {},
     "output_type": "execute_result"
    }
   ],
   "source": [
    "type(y_train)"
   ]
  },
  {
   "cell_type": "code",
   "execution_count": 63,
   "id": "3f719966",
   "metadata": {},
   "outputs": [
    {
     "data": {
      "text/plain": [
       "(3390, 15)"
      ]
     },
     "execution_count": 63,
     "metadata": {},
     "output_type": "execute_result"
    }
   ],
   "source": [
    "X_train.shape"
   ]
  },
  {
   "cell_type": "code",
   "execution_count": 64,
   "id": "8a7bfad8",
   "metadata": {},
   "outputs": [
    {
     "data": {
      "text/plain": [
       "898     1\n",
       "1556    0\n",
       "439     0\n",
       "2292    0\n",
       "2681    0\n",
       "       ..\n",
       "154     0\n",
       "1756    0\n",
       "1010    0\n",
       "406     0\n",
       "2286    0\n",
       "Name: TenYearCHD, Length: 3390, dtype: int64"
      ]
     },
     "execution_count": 64,
     "metadata": {},
     "output_type": "execute_result"
    }
   ],
   "source": [
    "y_train"
   ]
  },
  {
   "cell_type": "code",
   "execution_count": null,
   "id": "0a561a2a",
   "metadata": {},
   "outputs": [],
   "source": []
  }
 ],
 "metadata": {
  "kernelspec": {
   "display_name": "Python 3 (ipykernel)",
   "language": "python",
   "name": "python3"
  },
  "language_info": {
   "codemirror_mode": {
    "name": "ipython",
    "version": 3
   },
   "file_extension": ".py",
   "mimetype": "text/x-python",
   "name": "python",
   "nbconvert_exporter": "python",
   "pygments_lexer": "ipython3",
   "version": "3.9.12"
  }
 },
 "nbformat": 4,
 "nbformat_minor": 5
}
